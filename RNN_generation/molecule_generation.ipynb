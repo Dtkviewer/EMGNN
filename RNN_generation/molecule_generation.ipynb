{
 "cells": [
  {
   "cell_type": "code",
   "execution_count": null,
   "metadata": {},
   "outputs": [],
   "source": [
    "import launcher_of_clm\n",
    "\n",
    "launcher_of_clm.generate(280000, 0, './data/emsmiles.csv' , './data/guacamol_train.csv', './record/gutl-0050-12.2942.pth', 'generate_mol.csv')"
   ]
  }
 ],
 "metadata": {
  "language_info": {
   "name": "python"
  },
  "orig_nbformat": 4
 },
 "nbformat": 4,
 "nbformat_minor": 2
}
